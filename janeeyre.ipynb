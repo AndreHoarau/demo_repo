{
 "cells": [
  {
   "cell_type": "markdown",
   "metadata": {},
   "source": [
    "# Jane Eyre - A Mathematical Theory of Communication\n",
    "\n",
    "[A Mathematical Theory of Communication by Claude Shannon](https://people.math.harvard.edu/~ctm/home/text/others/shannon/entropy/entropy.pdf)\n",
    "\n",
    "[The Mathematical Theory of Communication by Claude Shannon and Warren Weaver](https://pure.mpg.de/rest/items/item_2383164/component/file_2383163/content)\n",
    "\n",
    "[Jane Eyre: An Autobiography by Charlotte Brontë](https://www.gutenberg.org/ebooks/1260)"
   ]
  },
  {
   "cell_type": "markdown",
   "metadata": {},
   "source": [
    "## Imports"
   ]
  },
  {
   "cell_type": "code",
   "execution_count": 1,
   "metadata": {},
   "outputs": [],
   "source": [
    "# The random module from the Python Standard Library.\n",
    "import random"
   ]
  },
  {
   "cell_type": "markdown",
   "metadata": {},
   "source": [
    "## Zero-order Approximation"
   ]
  },
  {
   "cell_type": "code",
   "execution_count": 2,
   "metadata": {},
   "outputs": [],
   "source": [
    "# The allowed symbols.\n",
    "symbols = \"ABCDEFGHIJKLMNOPQRSTUVWXYZ \""
   ]
  },
  {
   "cell_type": "markdown",
   "metadata": {},
   "source": [
    "Select several elements from symbols, with replacement.\n",
    "\n",
    "https://docs.python.org/3/library/random.html#random.choices"
   ]
  },
  {
   "cell_type": "code",
   "execution_count": 3,
   "metadata": {},
   "outputs": [
    {
     "data": {
      "text/plain": [
       "'UFBIGLFOMQPIFQUHMLZTSCTKQEUUBYLGODRXGGMUCRYWEPJUYMKRXERMUSEMSCTT X EATBKCH NMRYTRJSLKV CPJPPFHOVSVUJ'"
      ]
     },
     "execution_count": 3,
     "metadata": {},
     "output_type": "execute_result"
    }
   ],
   "source": [
    "# Randomly select k symbols from the string above.\n",
    "L = random.choices(symbols, k=100)\n",
    "\n",
    "# Show.\n",
    "''.join(L)"
   ]
  },
  {
   "cell_type": "markdown",
   "metadata": {},
   "source": [
    "## First-order Approximation"
   ]
  },
  {
   "cell_type": "code",
   "execution_count": 4,
   "metadata": {},
   "outputs": [
    {
     "ename": "FileNotFoundError",
     "evalue": "[Errno 2] No such file or directory: 'data/janeeyre.txt'",
     "output_type": "error",
     "traceback": [
      "\u001b[1;31m---------------------------------------------------------------------------\u001b[0m",
      "\u001b[1;31mFileNotFoundError\u001b[0m                         Traceback (most recent call last)",
      "Cell \u001b[1;32mIn[4], line 2\u001b[0m\n\u001b[0;32m      1\u001b[0m \u001b[38;5;66;03m# Open the book.\u001b[39;00m\n\u001b[1;32m----> 2\u001b[0m \u001b[38;5;28;01mwith\u001b[39;00m \u001b[38;5;28mopen\u001b[39m(\u001b[38;5;124m'\u001b[39m\u001b[38;5;124mdata/janeeyre.txt\u001b[39m\u001b[38;5;124m'\u001b[39m, \u001b[38;5;124m'\u001b[39m\u001b[38;5;124mr\u001b[39m\u001b[38;5;124m'\u001b[39m) \u001b[38;5;28;01mas\u001b[39;00m f:\n\u001b[0;32m      3\u001b[0m   \u001b[38;5;66;03m# Read the book into one long string.\u001b[39;00m\n\u001b[0;32m      4\u001b[0m   text \u001b[38;5;241m=\u001b[39m f\u001b[38;5;241m.\u001b[39mread()\u001b[38;5;241m.\u001b[39mupper()\n",
      "File \u001b[1;32mc:\\Users\\andre.hoarau\\AppData\\Local\\anaconda3\\Lib\\site-packages\\IPython\\core\\interactiveshell.py:286\u001b[0m, in \u001b[0;36m_modified_open\u001b[1;34m(file, *args, **kwargs)\u001b[0m\n\u001b[0;32m    279\u001b[0m \u001b[38;5;28;01mif\u001b[39;00m file \u001b[38;5;129;01min\u001b[39;00m {\u001b[38;5;241m0\u001b[39m, \u001b[38;5;241m1\u001b[39m, \u001b[38;5;241m2\u001b[39m}:\n\u001b[0;32m    280\u001b[0m     \u001b[38;5;28;01mraise\u001b[39;00m \u001b[38;5;167;01mValueError\u001b[39;00m(\n\u001b[0;32m    281\u001b[0m         \u001b[38;5;124mf\u001b[39m\u001b[38;5;124m\"\u001b[39m\u001b[38;5;124mIPython won\u001b[39m\u001b[38;5;124m'\u001b[39m\u001b[38;5;124mt let you open fd=\u001b[39m\u001b[38;5;132;01m{\u001b[39;00mfile\u001b[38;5;132;01m}\u001b[39;00m\u001b[38;5;124m by default \u001b[39m\u001b[38;5;124m\"\u001b[39m\n\u001b[0;32m    282\u001b[0m         \u001b[38;5;124m\"\u001b[39m\u001b[38;5;124mas it is likely to crash IPython. If you know what you are doing, \u001b[39m\u001b[38;5;124m\"\u001b[39m\n\u001b[0;32m    283\u001b[0m         \u001b[38;5;124m\"\u001b[39m\u001b[38;5;124myou can use builtins\u001b[39m\u001b[38;5;124m'\u001b[39m\u001b[38;5;124m open.\u001b[39m\u001b[38;5;124m\"\u001b[39m\n\u001b[0;32m    284\u001b[0m     )\n\u001b[1;32m--> 286\u001b[0m \u001b[38;5;28;01mreturn\u001b[39;00m io_open(file, \u001b[38;5;241m*\u001b[39margs, \u001b[38;5;241m*\u001b[39m\u001b[38;5;241m*\u001b[39mkwargs)\n",
      "\u001b[1;31mFileNotFoundError\u001b[0m: [Errno 2] No such file or directory: 'data/janeeyre.txt'"
     ]
    }
   ],
   "source": [
    "# Open the book.\n",
    "with open('data/janeeyre.txt', 'r') as f:\n",
    "  # Read the book into one long string.\n",
    "  text = f.read().upper()"
   ]
  },
  {
   "cell_type": "code",
   "execution_count": null,
   "metadata": {},
   "outputs": [],
   "source": [
    "# Counts of the number of letters in the book.\n",
    "counts = {s: text.count(s) for s in symbols}"
   ]
  },
  {
   "cell_type": "code",
   "execution_count": null,
   "metadata": {},
   "outputs": [
    {
     "data": {
      "text/plain": [
       "{'A': 62860,\n",
       " 'B': 11161,\n",
       " 'C': 18771,\n",
       " 'D': 37462,\n",
       " 'E': 100508,\n",
       " 'F': 16889,\n",
       " 'G': 15093,\n",
       " 'H': 45904,\n",
       " 'I': 56073,\n",
       " 'J': 1223,\n",
       " 'K': 6035,\n",
       " 'L': 32495,\n",
       " 'M': 22285,\n",
       " 'N': 54288,\n",
       " 'O': 60583,\n",
       " 'P': 12143,\n",
       " 'Q': 948,\n",
       " 'R': 47417,\n",
       " 'S': 50123,\n",
       " 'T': 67127,\n",
       " 'U': 23495,\n",
       " 'V': 7629,\n",
       " 'W': 18705,\n",
       " 'X': 1277,\n",
       " 'Y': 17307,\n",
       " 'Z': 329,\n",
       " ' ': 168745}"
      ]
     },
     "execution_count": 6,
     "metadata": {},
     "output_type": "execute_result"
    }
   ],
   "source": [
    "# Show the counts.\n",
    "counts"
   ]
  },
  {
   "cell_type": "code",
   "execution_count": null,
   "metadata": {},
   "outputs": [
    {
     "data": {
      "text/plain": [
       "100508"
      ]
     },
     "execution_count": 7,
     "metadata": {},
     "output_type": "execute_result"
    }
   ],
   "source": [
    "# The number of E's.\n",
    "counts['E']"
   ]
  },
  {
   "cell_type": "code",
   "execution_count": null,
   "metadata": {},
   "outputs": [
    {
     "data": {
      "text/plain": [
       "27"
      ]
     },
     "execution_count": 8,
     "metadata": {},
     "output_type": "execute_result"
    }
   ],
   "source": [
    "# Number of different items.\n",
    "len(counts)"
   ]
  },
  {
   "cell_type": "code",
   "execution_count": null,
   "metadata": {},
   "outputs": [
    {
     "data": {
      "text/plain": [
       "[(' ', 168745),\n",
       " ('E', 100508),\n",
       " ('T', 67127),\n",
       " ('A', 62860),\n",
       " ('O', 60583),\n",
       " ('I', 56073),\n",
       " ('N', 54288),\n",
       " ('S', 50123),\n",
       " ('R', 47417),\n",
       " ('H', 45904),\n",
       " ('D', 37462),\n",
       " ('L', 32495),\n",
       " ('U', 23495),\n",
       " ('M', 22285),\n",
       " ('C', 18771),\n",
       " ('W', 18705),\n",
       " ('Y', 17307),\n",
       " ('F', 16889),\n",
       " ('G', 15093),\n",
       " ('P', 12143),\n",
       " ('B', 11161),\n",
       " ('V', 7629),\n",
       " ('K', 6035),\n",
       " ('X', 1277),\n",
       " ('J', 1223),\n",
       " ('Q', 948),\n",
       " ('Z', 329)]"
      ]
     },
     "execution_count": 9,
     "metadata": {},
     "output_type": "execute_result"
    }
   ],
   "source": [
    "# Show the items in counts in sorted order.\n",
    "# Adapted from: https://stackoverflow.com/a/613218\n",
    "sorted(counts.items(), key=lambda item: -item[1])"
   ]
  },
  {
   "cell_type": "code",
   "execution_count": null,
   "metadata": {},
   "outputs": [
    {
     "data": {
      "text/plain": [
       "dict_keys(['A', 'B', 'C', 'D', 'E', 'F', 'G', 'H', 'I', 'J', 'K', 'L', 'M', 'N', 'O', 'P', 'Q', 'R', 'S', 'T', 'U', 'V', 'W', 'X', 'Y', 'Z', ' '])"
      ]
     },
     "execution_count": 10,
     "metadata": {},
     "output_type": "execute_result"
    }
   ],
   "source": [
    "# The dictionary keys.\n",
    "counts.keys()"
   ]
  },
  {
   "cell_type": "code",
   "execution_count": null,
   "metadata": {},
   "outputs": [
    {
     "data": {
      "text/plain": [
       "dict_values([62860, 11161, 18771, 37462, 100508, 16889, 15093, 45904, 56073, 1223, 6035, 32495, 22285, 54288, 60583, 12143, 948, 47417, 50123, 67127, 23495, 7629, 18705, 1277, 17307, 329, 168745])"
      ]
     },
     "execution_count": 11,
     "metadata": {},
     "output_type": "execute_result"
    }
   ],
   "source": [
    "# The dictionary values.\n",
    "counts.values()"
   ]
  },
  {
   "cell_type": "code",
   "execution_count": null,
   "metadata": {},
   "outputs": [
    {
     "data": {
      "text/plain": [
       "'  EETAI  SODUN AFALENK   LHDEGEEIDEILEP FTRHMAREOWTSDC N ET ORKTSNSALA RE  IEDTHLSOAEOSILETP DT ONEE'"
      ]
     },
     "execution_count": 33,
     "metadata": {},
     "output_type": "execute_result"
    }
   ],
   "source": [
    "# Randomly select k symbols from the string above.\n",
    "L = random.choices(list(counts.keys()), weights=list(counts.values()), k=100)\n",
    "\n",
    "# Show.\n",
    "''.join(L)"
   ]
  },
  {
   "cell_type": "markdown",
   "metadata": {},
   "source": [
    "## Second-order Approximation"
   ]
  },
  {
   "cell_type": "code",
   "execution_count": null,
   "metadata": {},
   "outputs": [
    {
     "data": {
      "text/plain": [
       "(['AA', 'AB', 'AC', 'AD', 'AE', 'AF', 'AG', 'AH', 'AI', 'AJ'],\n",
       " [' R', ' S', ' T', ' U', ' V', ' W', ' X', ' Y', ' Z', '  '])"
      ]
     },
     "execution_count": 13,
     "metadata": {},
     "output_type": "execute_result"
    }
   ],
   "source": [
    "# Pairs of symbols.\n",
    "symsq = [a + b for a in symbols for b in symbols]\n",
    "\n",
    "# Show first and last 10.\n",
    "symsq[:10], symsq[-10:]"
   ]
  },
  {
   "cell_type": "code",
   "execution_count": null,
   "metadata": {},
   "outputs": [],
   "source": [
    "# Counts of the number of double letters in the book.\n",
    "countsq = {s: text.count(s) for s in symsq}"
   ]
  },
  {
   "cell_type": "code",
   "execution_count": null,
   "metadata": {},
   "outputs": [
    {
     "data": {
      "text/plain": [
       "3"
      ]
     },
     "execution_count": 15,
     "metadata": {},
     "output_type": "execute_result"
    }
   ],
   "source": [
    "# Example.\n",
    "countsq['AA']"
   ]
  },
  {
   "cell_type": "code",
   "execution_count": null,
   "metadata": {},
   "outputs": [
    {
     "data": {
      "text/plain": [
       "5239"
      ]
     },
     "execution_count": 16,
     "metadata": {},
     "output_type": "execute_result"
    }
   ],
   "source": [
    "# Another example.\n",
    "countsq['EA']"
   ]
  },
  {
   "cell_type": "code",
   "execution_count": null,
   "metadata": {},
   "outputs": [],
   "source": [
    "# Our eventual output.\n",
    "output = 'T'"
   ]
  },
  {
   "cell_type": "code",
   "execution_count": null,
   "metadata": {},
   "outputs": [
    {
     "data": {
      "text/plain": [
       "{'A': 2263,\n",
       " 'B': 2,\n",
       " 'C': 310,\n",
       " 'D': 3,\n",
       " 'E': 6382,\n",
       " 'F': 52,\n",
       " 'G': 1,\n",
       " 'H': 18811,\n",
       " 'I': 4190,\n",
       " 'J': 0,\n",
       " 'K': 0,\n",
       " 'L': 1079,\n",
       " 'M': 92,\n",
       " 'N': 83,\n",
       " 'O': 7190,\n",
       " 'P': 0,\n",
       " 'Q': 0,\n",
       " 'R': 1926,\n",
       " 'S': 1100,\n",
       " 'T': 1368,\n",
       " 'U': 1258,\n",
       " 'V': 0,\n",
       " 'W': 394,\n",
       " 'X': 0,\n",
       " 'Y': 836,\n",
       " 'Z': 4,\n",
       " ' ': 15030}"
      ]
     },
     "execution_count": 18,
     "metadata": {},
     "output_type": "execute_result"
    }
   ],
   "source": [
    "# The counts for keys beginning with the last letter.\n",
    "condcounts = {s: countsq[output[-1] + s] for s in symbols}\n",
    "\n",
    "# Show.\n",
    "condcounts"
   ]
  },
  {
   "cell_type": "code",
   "execution_count": null,
   "metadata": {},
   "outputs": [
    {
     "data": {
      "text/plain": [
       "['H']"
      ]
     },
     "execution_count": 30,
     "metadata": {},
     "output_type": "execute_result"
    }
   ],
   "source": [
    "# Randomly select the next symbol using the conditional weights.\n",
    "random.choices(list(condcounts.keys()), weights=list(condcounts.values()), k=1)"
   ]
  },
  {
   "cell_type": "code",
   "execution_count": null,
   "metadata": {},
   "outputs": [
    {
     "data": {
      "text/plain": [
       "'TED PEANG AMAND THE ATSHAFFA CAS ORATHTHEERD WHIVE ITCECHEE IOFLOF BE HERAD HENCANEAND F MED GSS N B'"
      ]
     },
     "execution_count": 31,
     "metadata": {},
     "output_type": "execute_result"
    }
   ],
   "source": [
    "# Our eventual output.\n",
    "output = 'T'\n",
    "\n",
    "for i in range(1, 100):\n",
    "  # The counts for keys beginning with the last letter.\n",
    "  condcounts = {s: countsq[output[-1] + s] for s in symbols}\n",
    "  # The next letter.\n",
    "  next = random.choices(list(condcounts.keys()), weights=list(condcounts.values()), k=1)[0]\n",
    "  # Add to the output.\n",
    "  output += next\n",
    "\n",
    "# Show.\n",
    "output"
   ]
  },
  {
   "cell_type": "markdown",
   "metadata": {},
   "source": [
    "## End"
   ]
  }
 ],
 "metadata": {
  "kernelspec": {
   "display_name": "base",
   "language": "python",
   "name": "python3"
  },
  "language_info": {
   "codemirror_mode": {
    "name": "ipython",
    "version": 3
   },
   "file_extension": ".py",
   "mimetype": "text/x-python",
   "name": "python",
   "nbconvert_exporter": "python",
   "pygments_lexer": "ipython3",
   "version": "3.11.5"
  }
 },
 "nbformat": 4,
 "nbformat_minor": 2
}
