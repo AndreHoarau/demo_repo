{
 "cells": [
  {
   "cell_type": "code",
   "execution_count": null,
   "metadata": {},
   "outputs": [],
   "source": [
    "# We want to first get rid of any of the unidentified sexed penguins\n",
    "defineddf = df.dropna(subset= ['sex'])\n",
    "\n",
    "# Average bill length per sex needs to be calculated\n",
    "# Using groupby we group species and sex with  lengths in mm average\n",
    "defineddf_billlengthaverage = defineddf.groupby(['species', 'sex'], )['bill_length_mm'].mean().reset_index()\n",
    "defineddf_billdepthaverage = defineddf.groupby(['species', 'sex'], )['bill_depth_mm'].mean().reset_index()\n",
    "defineddf_flipperlengthaverage = defineddf.groupby(['species', 'sex'], )['flipper_length_mm'].mean().reset_index()\n",
    "defineddf_bodymassaverage = defineddf.groupby(['species', 'sex'], )['body_mass_g'].mean().reset_index()\n",
    "print(defineddf.columns)\n",
    "fig, axes = plt.subplots(2,2, figsize= (12,8))\n",
    "# Creates the bar chart looking at the species and sex seperating them into male female and the different species and prints their average lengths\n",
    "for ax, df, title in zip(axes.ravel(), [defineddf_billlengthaverage, defineddf_billdepthaverage, defineddf_flipperlengthaverage, defineddf_bodymassaverage], ['Bill Length', 'Bill Depth', 'Flipper Length', 'Body Mass']):\n",
    "    bars= ax.bar([f'{species} - {sex}' for species, sex in zip(df['species'], df['sex'])], df.iloc[:, 2])\n",
    "    ax.set_xticklabels([f'{species} - {sex}' for species, sex in zip(df['species'], df['sex'])], rotation=45, ha='right')\n",
    "    ax.set_title(title)\n",
    "    ax.grid(True)\n",
    "    if title == 'Body Mass':\n",
    "        ax.set_ylabel('Average Measurement (g)')\n",
    "    else:\n",
    "        ax.set_ylabel('Average Measurement (mm)')\n",
    "    for ax in axes.flat:\n",
    "        for bar in ax.patches:\n",
    "            height = bar.get_height()\n",
    "            \n",
    "            ax.text(bar.get_x() + bar.get_width() / 2, height, f'{height:.2f}', ha='center', va='bottom')\n",
    "\n",
    "plt.tight_layout()\n",
    "\n",
    "\n",
    "\n",
    "plt.show()"
   ]
  },
  {
   "cell_type": "markdown",
   "metadata": {},
   "source": [
    "## Math \n",
    "***\n",
    "$ f(x) = x^2$\n",
    "\n"
   ]
  },
  {
   "cell_type": "markdown",
   "metadata": {},
   "source": [
    "```  bash\n",
    "$ ptyhon.py \n",
    "```"
   ]
  },
  {
   "cell_type": "markdown",
   "metadata": {},
   "source": [
    "## Tables\n",
    "\n",
    "***\n",
    "\n",
    "|Species   | Bill Length (mm) |bODY mass (g) |          \n",
    "|----------|-----------------:|-------------:|\n",
    "|Adelie    |             38.8 |          3701|\n",
    "|Chinstrap |             48.8 |          3733|\n",
    "|Gentoo    |             47.5 |          5076|"
   ]
  },
  {
   "cell_type": "markdown",
   "metadata": {},
   "source": [
    "# this will be big\n",
    "\n",
    "*you might have a paragaph pragraphs* have sentences.you might have a paragaph pragraphs have sentences.\n",
    "you might have a paragaph pragraphs have sentences.\n",
    "you might have a paragaph pragraphs have sentences.\n",
    "you might have a paragaph pragraphs have sentences.\n",
    "you might have a paragaph pragraphs have sentences.\n",
    "you might have a paragaph pragraphs have sentences.\n",
    "you might have a paragaph pragraphs have sentences.\n",
    "you might have a paragaph pragraphs have sentences.\n",
    "\n",
    "if you want a second paragraph leave a blank line! if you want a second paragraph leave a blank line!\n",
    "if you want a second paragraph leave a blank line!\n",
    "if you want a second paragraph leave a blank line!\n",
    "if you want a second paragraph leave a blank line!\n",
    "if you want a second paragraph leave a blank line!\n",
    "if you want a second paragraph leave a blank line!if you want a second paragraph leave a blank line!\n",
    "if you want a second paragraph leave a blank line!\n",
    "**if you want a second paragraph leave a blank line!**\n",
    "\n",
    "\n",
    "\n",
    "## this will be slightly smaller \n",
    "- #Bullet\n",
    "- Point \n",
    "- Lists \n",
    "\n",
    "### this will be slightly smaller again\n",
    "1. numbereed bullets\n",
    "1. just use numbers.\n",
    "1. this can be all sorted 1. \n",
    "1. how complex\n",
    "\n",
    "> The definition of stupidity...... \n",
    "#### this will be slightly smaller again again\n",
    "##### this will be slightly smaller again again again\n",
    "###### this will be slightly smaller again again again again"
   ]
  },
  {
   "cell_type": "code",
   "execution_count": null,
   "metadata": {},
   "outputs": [],
   "source": []
  },
  {
   "cell_type": "code",
   "execution_count": null,
   "metadata": {},
   "outputs": [],
   "source": []
  }
 ],
 "metadata": {
  "language_info": {
   "name": "python"
  }
 },
 "nbformat": 4,
 "nbformat_minor": 2
}
